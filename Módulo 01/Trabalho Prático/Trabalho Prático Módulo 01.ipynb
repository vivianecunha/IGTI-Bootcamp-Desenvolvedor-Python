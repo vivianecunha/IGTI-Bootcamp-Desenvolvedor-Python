{
 "cells": [
  {
   "cell_type": "markdown",
   "metadata": {},
   "source": [
    "# Trabalho Prático Módulo 1\n",
    "\n",
    "### Fundamentos do Bootcamp\n",
    "\n",
    "##### Objetivos\n",
    "\n",
    "Exercitar os seguintes conceitos trabalhados no Módulo:\n",
    "* Tipos de dados.\n",
    "* Condicionais.\n",
    "* Estrutura de dados."
   ]
  },
  {
   "cell_type": "markdown",
   "metadata": {},
   "source": [
    "### Códigos do Trabalho"
   ]
  },
  {
   "cell_type": "code",
   "execution_count": 12,
   "metadata": {},
   "outputs": [
    {
     "name": "stdout",
     "output_type": "stream",
     "text": [
      "Entre com a sua idade:27\n",
      "No próximo ano você terá: 28 anos\n"
     ]
    }
   ],
   "source": [
    "# Código 1\n",
    "idade = int(input (\"Entre com a sua idade:\"))\n",
    "nova_idade = idade + 1\n",
    "print(\"No próximo ano você terá: {} anos\".format(nova_idade))"
   ]
  },
  {
   "cell_type": "code",
   "execution_count": 13,
   "metadata": {},
   "outputs": [
    {
     "name": "stdout",
     "output_type": "stream",
     "text": [
      "O retângulo de lado A = 35 e lado B = 14.33 é 501.667\n"
     ]
    }
   ],
   "source": [
    "# Código 2\n",
    "lado_a = 35\n",
    "lado_b = 14.33333\n",
    "area_do_retangulo = (lado_a)*(lado_b)\n",
    "print('O retângulo de lado A = %d e lado B = %.2f é %.3f' %(lado_a,lado_b,area_do_retangulo))"
   ]
  },
  {
   "cell_type": "code",
   "execution_count": 14,
   "metadata": {},
   "outputs": [
    {
     "name": "stdout",
     "output_type": "stream",
     "text": [
      "[1, 2, 'IGTI', 2, 3, 'Bootcamp']\n"
     ]
    }
   ],
   "source": [
    "# Código 3\n",
    "lista_1 = [1,2,'IGTI']\n",
    "lista_2 = [2,3,\"Bootcamp\"]\n",
    "lista_3 = lista_1 + lista_2\n",
    "print(lista_3)"
   ]
  },
  {
   "cell_type": "code",
   "execution_count": 15,
   "metadata": {},
   "outputs": [
    {
     "name": "stdout",
     "output_type": "stream",
     "text": [
      "Entre com um valor inteiro de 0 a 30: 30\n",
      "Voce acertou um dos números que eu estava pensando.\n",
      "Esse número é maior que 20.\n",
      "Você é fera\n",
      "Obrigao por participar\n"
     ]
    }
   ],
   "source": [
    "# Código 4\n",
    "chute = int(input('Entre com um valor inteiro de 0 a 30: '))\n",
    "adivinhacao = [5, 6, 10, 14, 16, 20, 30]\n",
    "if chute in adivinhacao:\n",
    "    print('Voce acertou um dos números que eu estava pensando.')\n",
    "    \n",
    "    if chute > 15:\n",
    "        print('Esse número é maior que 20.')\n",
    "        \n",
    "    if chute < 20:\n",
    "        print('Esse número é menor que 20.')\n",
    "    \n",
    "    print('Você é fera')\n",
    "else:\n",
    "    print('Que pena, você errou. Pode tentar outra vez.')\n",
    "print('Obrigao por participar')"
   ]
  },
  {
   "cell_type": "code",
   "execution_count": 16,
   "metadata": {},
   "outputs": [
    {
     "name": "stdout",
     "output_type": "stream",
     "text": [
      "maça\n",
      "banana\n"
     ]
    }
   ],
   "source": [
    "# Código 5\n",
    "frutas = [\"maça\", \"banana\", \"uva\", \"goiaba\"]\n",
    "for x in frutas:\n",
    "    if x == \"uva\":\n",
    "        break\n",
    "    print(x)"
   ]
  },
  {
   "cell_type": "code",
   "execution_count": 17,
   "metadata": {},
   "outputs": [
    {
     "name": "stdout",
     "output_type": "stream",
     "text": [
      "4\n",
      "3\n",
      "2\n",
      "1\n",
      "0\n",
      "-1\n"
     ]
    }
   ],
   "source": [
    "# Código 6\n",
    "n = 5\n",
    "while n >= 0:\n",
    "    n -= 1\n",
    "    print(n)"
   ]
  },
  {
   "cell_type": "markdown",
   "metadata": {},
   "source": [
    "## Questões"
   ]
  },
  {
   "cell_type": "markdown",
   "metadata": {},
   "source": [
    "### Pergunta 1\n",
    "\n",
    "Sobre o código 1, é CORRETO afirmar: \n",
    "\n",
    "\n",
    "* Valores entre aspas (“ ”) indicam valores inteiros.\n",
    "\n",
    "* “int” não é um tipo de objeto em Python.\n",
    "\n",
    "* **“input” é utilizado para receber dados digitados pelo usuário.**\n",
    "\n",
    "* “int” representa a utilização de pontos flutuantes."
   ]
  },
  {
   "cell_type": "markdown",
   "metadata": {},
   "source": [
    "### Pergunta 2\n",
    "\n",
    "Sobre o código 1, é CORRETO afirmar: \n",
    "\n",
    "* Para realizar a soma algébrica das idades não precisamos transformar o objeto obtido através do “input”.\n",
    "\n",
    "* **Para realizar a soma algébrica das idades é necessário aplicar a transformação para objeto inteiro.**\n",
    "\n",
    "* Objetos “string” nunca podem ser transformados em objetos inteiros (“int”).\n",
    "\n",
    "* O objeto “print” só pode ser utilizado para realizar a impressão de objetos “string”."
   ]
  },
  {
   "cell_type": "code",
   "execution_count": 19,
   "metadata": {},
   "outputs": [
    {
     "name": "stdout",
     "output_type": "stream",
     "text": [
      "Entre com a sua idade:20\n"
     ]
    },
    {
     "ename": "TypeError",
     "evalue": "can only concatenate str (not \"int\") to str",
     "output_type": "error",
     "traceback": [
      "\u001b[1;31m---------------------------------------------------------------------------\u001b[0m",
      "\u001b[1;31mTypeError\u001b[0m                                 Traceback (most recent call last)",
      "\u001b[1;32m<ipython-input-19-719f083234c6>\u001b[0m in \u001b[0;36m<module>\u001b[1;34m\u001b[0m\n\u001b[0;32m      2\u001b[0m \u001b[1;33m\u001b[0m\u001b[0m\n\u001b[0;32m      3\u001b[0m \u001b[0midade\u001b[0m \u001b[1;33m=\u001b[0m \u001b[1;33m(\u001b[0m\u001b[0minput\u001b[0m \u001b[1;33m(\u001b[0m\u001b[1;34m\"Entre com a sua idade:\"\u001b[0m\u001b[1;33m)\u001b[0m\u001b[1;33m)\u001b[0m\u001b[1;33m\u001b[0m\u001b[1;33m\u001b[0m\u001b[0m\n\u001b[1;32m----> 4\u001b[1;33m \u001b[0mnova_idade\u001b[0m \u001b[1;33m=\u001b[0m \u001b[0midade\u001b[0m \u001b[1;33m+\u001b[0m \u001b[1;36m1\u001b[0m\u001b[1;33m\u001b[0m\u001b[1;33m\u001b[0m\u001b[0m\n\u001b[0m\u001b[0;32m      5\u001b[0m \u001b[0mprint\u001b[0m\u001b[1;33m(\u001b[0m\u001b[1;34m\"No próximo ano você terá: {} anos\"\u001b[0m\u001b[1;33m.\u001b[0m\u001b[0mformat\u001b[0m\u001b[1;33m(\u001b[0m\u001b[0mnova_idade\u001b[0m\u001b[1;33m)\u001b[0m\u001b[1;33m)\u001b[0m\u001b[1;33m\u001b[0m\u001b[1;33m\u001b[0m\u001b[0m\n",
      "\u001b[1;31mTypeError\u001b[0m: can only concatenate str (not \"int\") to str"
     ]
    }
   ],
   "source": [
    "# Teste pergunta 2 - necessário aplicar transformação int?\n",
    "\n",
    "idade = (input (\"Entre com a sua idade:\"))\n",
    "nova_idade = idade + 1\n",
    "print(\"No próximo ano você terá: {} anos\".format(nova_idade))"
   ]
  },
  {
   "cell_type": "markdown",
   "metadata": {},
   "source": [
    "### Pergunta 3\n",
    "\n",
    "Sobre o código 1, é CORRETO afirmar: \n",
    "\n",
    "\n",
    "* O retorno do objeto “input” é um objeto inteiro.\n",
    "\n",
    "* O valor da saída do “print” indica a próxima idade como dois anos a mais para o próximo ano.\n",
    "\n",
    "* Se for informado uma idade de 25.4 anos, não existe problema, pois a execução ocorre sem erros.\n",
    "\n",
    "* **Na segunda linha ocorre a soma algébrica de dois inteiros.**"
   ]
  },
  {
   "cell_type": "code",
   "execution_count": 22,
   "metadata": {},
   "outputs": [
    {
     "name": "stdout",
     "output_type": "stream",
     "text": [
      "Entre com a sua idade:25.4\n"
     ]
    },
    {
     "ename": "ValueError",
     "evalue": "invalid literal for int() with base 10: '25.4'",
     "output_type": "error",
     "traceback": [
      "\u001b[1;31m---------------------------------------------------------------------------\u001b[0m",
      "\u001b[1;31mValueError\u001b[0m                                Traceback (most recent call last)",
      "\u001b[1;32m<ipython-input-22-839629836e64>\u001b[0m in \u001b[0;36m<module>\u001b[1;34m\u001b[0m\n\u001b[0;32m      1\u001b[0m \u001b[1;31m# Teste pergunta 3 - 25.4\u001b[0m\u001b[1;33m\u001b[0m\u001b[1;33m\u001b[0m\u001b[1;33m\u001b[0m\u001b[0m\n\u001b[0;32m      2\u001b[0m \u001b[1;33m\u001b[0m\u001b[0m\n\u001b[1;32m----> 3\u001b[1;33m \u001b[0midade\u001b[0m \u001b[1;33m=\u001b[0m \u001b[0mint\u001b[0m\u001b[1;33m(\u001b[0m\u001b[0minput\u001b[0m \u001b[1;33m(\u001b[0m\u001b[1;34m\"Entre com a sua idade:\"\u001b[0m\u001b[1;33m)\u001b[0m\u001b[1;33m)\u001b[0m\u001b[1;33m\u001b[0m\u001b[1;33m\u001b[0m\u001b[0m\n\u001b[0m\u001b[0;32m      4\u001b[0m \u001b[0mnova_idade\u001b[0m \u001b[1;33m=\u001b[0m \u001b[0midade\u001b[0m \u001b[1;33m+\u001b[0m \u001b[1;36m1\u001b[0m\u001b[1;33m\u001b[0m\u001b[1;33m\u001b[0m\u001b[0m\n\u001b[0;32m      5\u001b[0m \u001b[0mprint\u001b[0m\u001b[1;33m(\u001b[0m\u001b[1;34m\"No próximo ano você terá: {} anos\"\u001b[0m\u001b[1;33m.\u001b[0m\u001b[0mformat\u001b[0m\u001b[1;33m(\u001b[0m\u001b[0mnova_idade\u001b[0m\u001b[1;33m)\u001b[0m\u001b[1;33m)\u001b[0m\u001b[1;33m\u001b[0m\u001b[1;33m\u001b[0m\u001b[0m\n",
      "\u001b[1;31mValueError\u001b[0m: invalid literal for int() with base 10: '25.4'"
     ]
    }
   ],
   "source": [
    "# Teste pergunta 3 - 25.4\n",
    "\n",
    "idade = int(input (\"Entre com a sua idade:\"))\n",
    "nova_idade = idade + 1\n",
    "print(\"No próximo ano você terá: {} anos\".format(nova_idade))"
   ]
  },
  {
   "cell_type": "markdown",
   "metadata": {},
   "source": [
    "### Pergunta 4\n",
    "\n",
    "Utilizando o código 1, informe a idade de 33.3 quando o código for executado. Marque a alternativa que melhor explica a resposta obtida. \n",
    "\n",
    "\n",
    "* **O erro encontrado ocorre devido à idade informada ser do um ponto flutuante e o objeto “int” trabalhar com valores inteiros.**\n",
    "\n",
    "* A execução ocorre sem erros, pois o objeto “int” consegue trabalhar normalmente com valores decimais.\n",
    "\n",
    "* O erro encontrado ocorre devido ao objeto “int” nunca conseguir transformar uma “string” em valor inteiro.\n",
    "\n",
    "* Não ocorre erro de execução, pois pode existir uma idade com valor decimal para representar os meses."
   ]
  },
  {
   "cell_type": "code",
   "execution_count": 24,
   "metadata": {},
   "outputs": [
    {
     "name": "stdout",
     "output_type": "stream",
     "text": [
      "Entre com a sua idade:33.3\n"
     ]
    },
    {
     "ename": "ValueError",
     "evalue": "invalid literal for int() with base 10: '33.3'",
     "output_type": "error",
     "traceback": [
      "\u001b[1;31m---------------------------------------------------------------------------\u001b[0m",
      "\u001b[1;31mValueError\u001b[0m                                Traceback (most recent call last)",
      "\u001b[1;32m<ipython-input-24-459dbe508af3>\u001b[0m in \u001b[0;36m<module>\u001b[1;34m\u001b[0m\n\u001b[0;32m      1\u001b[0m \u001b[1;31m# Teste pergunta 4\u001b[0m\u001b[1;33m\u001b[0m\u001b[1;33m\u001b[0m\u001b[1;33m\u001b[0m\u001b[0m\n\u001b[0;32m      2\u001b[0m \u001b[1;33m\u001b[0m\u001b[0m\n\u001b[1;32m----> 3\u001b[1;33m \u001b[0midade\u001b[0m \u001b[1;33m=\u001b[0m \u001b[0mint\u001b[0m\u001b[1;33m(\u001b[0m\u001b[0minput\u001b[0m \u001b[1;33m(\u001b[0m\u001b[1;34m\"Entre com a sua idade:\"\u001b[0m\u001b[1;33m)\u001b[0m\u001b[1;33m)\u001b[0m\u001b[1;33m\u001b[0m\u001b[1;33m\u001b[0m\u001b[0m\n\u001b[0m\u001b[0;32m      4\u001b[0m \u001b[0mnova_idade\u001b[0m \u001b[1;33m=\u001b[0m \u001b[0midade\u001b[0m \u001b[1;33m+\u001b[0m \u001b[1;36m1\u001b[0m\u001b[1;33m\u001b[0m\u001b[1;33m\u001b[0m\u001b[0m\n\u001b[0;32m      5\u001b[0m \u001b[0mprint\u001b[0m\u001b[1;33m(\u001b[0m\u001b[1;34m\"No próximo ano você terá: {} anos\"\u001b[0m\u001b[1;33m.\u001b[0m\u001b[0mformat\u001b[0m\u001b[1;33m(\u001b[0m\u001b[0mnova_idade\u001b[0m\u001b[1;33m)\u001b[0m\u001b[1;33m)\u001b[0m\u001b[1;33m\u001b[0m\u001b[1;33m\u001b[0m\u001b[0m\n",
      "\u001b[1;31mValueError\u001b[0m: invalid literal for int() with base 10: '33.3'"
     ]
    }
   ],
   "source": [
    "# Teste pergunta 4\n",
    "\n",
    "idade = int(input (\"Entre com a sua idade:\"))\n",
    "nova_idade = idade + 1\n",
    "print(\"No próximo ano você terá: {} anos\".format(nova_idade))"
   ]
  },
  {
   "cell_type": "markdown",
   "metadata": {},
   "source": [
    "### Pergunta 5\n",
    "\n",
    "Sobre o objeto “print” presente no código 1, é CORRETO afirmar: \n",
    "\n",
    "* O objeto “print” só pode ser empregado com objetos “string”.\n",
    "\n",
    "* Se, por exemplo, retirarmos os parênteses da função print (de print() para print ), não ocorre nenhum erro.\n",
    "\n",
    "* **Esse objeto pode ser utilizado em conjunto com o % para formatar valores numéricos, por exemplo.**\n",
    "\n",
    "* Em Python 2.X e Python 3.X, o objeto “print” apresenta a mesma sintaxe e, portanto, podemos utilizá-lo sem modificações."
   ]
  },
  {
   "cell_type": "markdown",
   "metadata": {},
   "source": [
    "### Pergunta 6\n",
    "\n",
    "Sobre a segunda linha do código 1, é CORRETO afirmar: \n",
    "\n",
    "* O acumulador mostrado corresponde a um condicional da linguagem Python.\n",
    "\n",
    "* Se o sinal de adição (+) for substituído pelo de resto da divisão (%), teremos o dobro do valor para a variável “nova_idade”.\n",
    "\n",
    "* Essa operação representa uma estrutura de repetição.\n",
    "\n",
    "* **O resultado é o valor da idade informada acrescida do valor 1.**"
   ]
  },
  {
   "cell_type": "markdown",
   "metadata": {},
   "source": [
    "### Pergunta 7\n",
    "\n",
    "Sobre o código 2, é correto afirmar, EXCETO: \n",
    "\n",
    "\n",
    "* **Se substituirmos o campo %.2f por %.2d nenhuma alteração na saída ocorre, pois a variável “ lado_a” é um inteiro.**\n",
    "\n",
    "* A variável “area_do_retangulo” é do tipo ponto flutuante.\n",
    "\n",
    "* Com algumas modificações poderia ser utilizado o método “.format” do objeto string para “printar” a área do retângulo.\n",
    "\n",
    "* É possível definir uma string com aspas simples."
   ]
  },
  {
   "cell_type": "code",
   "execution_count": 28,
   "metadata": {},
   "outputs": [
    {
     "name": "stdout",
     "output_type": "stream",
     "text": [
      "O retângulo de lado A = 35 e lado B = 14 é 501.667\n"
     ]
    }
   ],
   "source": [
    "# Teste pergunta 7\n",
    "lado_a = 35\n",
    "lado_b = 14.33333\n",
    "area_do_retangulo = (lado_a)*(lado_b)\n",
    "print('O retângulo de lado A = %d e lado B = %.2d é %.3f' %(lado_a,lado_b,area_do_retangulo))"
   ]
  },
  {
   "cell_type": "markdown",
   "metadata": {},
   "source": [
    "### Pergunta 8\n",
    "\n",
    "Sobre o código 3, é CORRETO afirmar: \n",
    "\n",
    "\n",
    "* O valor retornado corresponde a um erro, pois os objetos “string” em uma lista devem ser sempre definidos com aspas duplas (“ ”).\n",
    "\n",
    "* **A execução retorna uma lista que contém os valores [1, 2, 'IGTI', 2, 3, 'Bootcamp'].**\n",
    "\n",
    "* O valor retornado pelo código corresponde a uma lista com apenas um valor 2, pois nas listas não podemos ter valores repetidos.\n",
    "\n",
    "* A execução retorna um erro, pois não é possível somar listas."
   ]
  },
  {
   "cell_type": "markdown",
   "metadata": {},
   "source": [
    "### Pergunta 9\n",
    "\n",
    "Sobre o código 3, é CORRETO afirmar: \n",
    "\n",
    "\n",
    "* Uma lista vazia pode ser definida através do comando “lista={}”.\n",
    "\n",
    "* Não é possível adicionar um outro elemento para a lista_3 através do método “.append()”.\n",
    "\n",
    "* **Para acessar o elemento ‘IGTI’ da variável lista_3, podemos utilizar o índice 2.**\n",
    "\n",
    "* O primeiro valor da lista_3 pode ser acessado através do índice 1 desta lista."
   ]
  },
  {
   "cell_type": "code",
   "execution_count": 30,
   "metadata": {},
   "outputs": [
    {
     "name": "stdout",
     "output_type": "stream",
     "text": [
      "[1, 2, 'IGTI', 2, 3, 'Bootcamp']\n",
      "None\n"
     ]
    }
   ],
   "source": [
    "# Teste pergunta 3:\n",
    "\n",
    "lista_1 = [1,2,'IGTI']\n",
    "lista_2 = [2,3,\"Bootcamp\"]\n",
    "lista_3 = lista_1 + lista_2\n",
    "print(lista_3)\n",
    "lista_4 = lista_3.append(\"teste\")\n",
    "print(lista_4)"
   ]
  },
  {
   "cell_type": "code",
   "execution_count": 31,
   "metadata": {},
   "outputs": [
    {
     "data": {
      "text/plain": [
       "'IGTI'"
      ]
     },
     "execution_count": 31,
     "metadata": {},
     "output_type": "execute_result"
    }
   ],
   "source": [
    "# Teste pergunta 3:\n",
    "lista_3[2]"
   ]
  },
  {
   "cell_type": "markdown",
   "metadata": {},
   "source": [
    "### Pergunta 10\n",
    "\n",
    "Sobre o código 4, é CORRETO afirmar: \n",
    "\n",
    "\n",
    "* **A mensagem “Você é fera” só é exibida caso o usuário digite um número que está presente na lista “adivinhacao”.**\n",
    "\n",
    "* O código não pode ser executado, pois ele só aceita números inteiros e a saída do “input” é um “string”.\n",
    "\n",
    "* A mensagem “Obrigado por participar” só é exibida caso o participante acerte o valor contido na lista “adivinhacao”.\n",
    "\n",
    "* A lista “adivinhacao” é formada por objetos do tipo “string”"
   ]
  },
  {
   "cell_type": "code",
   "execution_count": 32,
   "metadata": {},
   "outputs": [
    {
     "name": "stdout",
     "output_type": "stream",
     "text": [
      "Entre com um valor inteiro de 0 a 30: 1\n",
      "Que pena, você errou. Pode tentar outra vez.\n",
      "Obrigao por participar\n"
     ]
    }
   ],
   "source": [
    "# Teste pergunta 10\n",
    "\n",
    "chute = int(input('Entre com um valor inteiro de 0 a 30: '))\n",
    "adivinhacao = [5, 6, 10, 14, 16, 20, 30]\n",
    "if chute in adivinhacao:\n",
    "    print('Voce acertou um dos números que eu estava pensando.')\n",
    "    \n",
    "    if chute > 15:\n",
    "        print('Esse número é maior que 20.')\n",
    "        \n",
    "    if chute < 20:\n",
    "        print('Esse número é menor que 20.')\n",
    "    \n",
    "    print('Você é fera')\n",
    "else:\n",
    "    print('Que pena, você errou. Pode tentar outra vez.')\n",
    "print('Obrigao por participar')"
   ]
  },
  {
   "cell_type": "markdown",
   "metadata": {},
   "source": [
    "### Pergunta 11\n",
    "\n",
    "Sobre o código 4, é CORRETO afirmar: \n",
    "\n",
    "\n",
    "* A mensagem “Esse número é menor do que 20” é sempre exibida quando o usuário acertar o valor.\n",
    "\n",
    "* **A mensagem “Esse número é menor do que 20” só é exibida se o usuário acertar um dos valores contidos na lista e este valor for menor do que 20.**\n",
    "\n",
    "* Valores de ponto flutuante também podem ser passados sem que ocorra erros.\n",
    "\n",
    "* Retirando a transformação para int(), o código desenvolve o mesmo funcionamento da versão inicial."
   ]
  },
  {
   "cell_type": "code",
   "execution_count": 34,
   "metadata": {},
   "outputs": [
    {
     "name": "stdout",
     "output_type": "stream",
     "text": [
      "Entre com um valor inteiro de 0 a 30: 9\n",
      "Que pena, você errou. Pode tentar outra vez.\n",
      "Obrigao por participar\n"
     ]
    }
   ],
   "source": [
    "# Teste pergunta 11\n",
    "\n",
    "chute = int(input('Entre com um valor inteiro de 0 a 30: '))\n",
    "adivinhacao = [5, 6, 10, 14, 16, 20, 30]\n",
    "if chute in adivinhacao:\n",
    "    print('Voce acertou um dos números que eu estava pensando.')\n",
    "    \n",
    "    if chute > 15:\n",
    "        print('Esse número é maior que 20.')\n",
    "        \n",
    "    if chute < 20:\n",
    "        print('Esse número é menor que 20.')\n",
    "    \n",
    "    print('Você é fera')\n",
    "else:\n",
    "    print('Que pena, você errou. Pode tentar outra vez.')\n",
    "print('Obrigao por participar')"
   ]
  },
  {
   "cell_type": "markdown",
   "metadata": {},
   "source": [
    "### Pergunta 12\n",
    "\n",
    "Sobre o código 5, é CORRETO afirmar: \n",
    "\n",
    "\n",
    "* O condicional “if” só é executado quando a fruta é diferente de “banana”\n",
    "\n",
    "* **A saída mostrada corresponde às frutas “maça” e “banana”.**\n",
    "\n",
    "* Retirando a palavra “break”, sem alterar a identação, o código funciona normalmente.\n",
    "\n",
    "* As definições de loop “while” e “for” são idênticas, assim podemos substituir o “for” pelo “while” sem realizar nenhuma modificação do código."
   ]
  },
  {
   "cell_type": "code",
   "execution_count": 35,
   "metadata": {},
   "outputs": [
    {
     "ename": "IndentationError",
     "evalue": "expected an indented block (<ipython-input-35-f86cfe8ce9f0>, line 7)",
     "output_type": "error",
     "traceback": [
      "\u001b[1;36m  File \u001b[1;32m\"<ipython-input-35-f86cfe8ce9f0>\"\u001b[1;36m, line \u001b[1;32m7\u001b[0m\n\u001b[1;33m    break\u001b[0m\n\u001b[1;37m    ^\u001b[0m\n\u001b[1;31mIndentationError\u001b[0m\u001b[1;31m:\u001b[0m expected an indented block\n"
     ]
    }
   ],
   "source": [
    "# Teste pergunta 12\n",
    "\n",
    "frutas = [\"maça\", \"banana\", \"uva\", \"goiaba\"]\n",
    "for x in frutas:\n",
    "    if x == \"uva\":\n",
    "    break\n",
    "    print(x)"
   ]
  },
  {
   "cell_type": "code",
   "execution_count": 36,
   "metadata": {},
   "outputs": [],
   "source": [
    "# Teste pergunta 12\n",
    "\n",
    "frutas = [\"maça\", \"banana\", \"uva\", \"goiaba\"]\n",
    "while x in frutas:\n",
    "    if x == \"uva\":\n",
    "        break\n",
    "    print(x)"
   ]
  },
  {
   "cell_type": "markdown",
   "metadata": {},
   "source": [
    "### Pergunta 13\n",
    "\n",
    "Sobre o código 5, é CORRETO afirmar: \n",
    "\n",
    "\n",
    "* **Se adicionarmos mais elementos à lista de “frutas” com o comando “.append()”, a resposta final não será alterada.**\n",
    "\n",
    "* O loop “for” não pode ser executado com o comando “in”.\n",
    "\n",
    "* Quando a condição de parada do loop “for” é alcançada, sempre devemos utilizar o “break” para que ele saia do loop.\n",
    "\n",
    "* O loop “for” pode ser utilizado para realizar a iteração sobre tuplas."
   ]
  },
  {
   "cell_type": "code",
   "execution_count": 3,
   "metadata": {},
   "outputs": [
    {
     "name": "stdout",
     "output_type": "stream",
     "text": [
      "maça\n",
      "banana\n"
     ]
    }
   ],
   "source": [
    "# Teste pergunta 13\n",
    "\n",
    "frutas = [\"maça\", \"banana\", \"uva\", \"goiaba\"]\n",
    "frutas.append(\"abacaxi\")\n",
    "for x in frutas:\n",
    "    if x == \"uva\":\n",
    "        break\n",
    "    print(x)"
   ]
  },
  {
   "cell_type": "markdown",
   "metadata": {},
   "source": [
    "### Pergunta 14\n",
    "\n",
    "Sobre o código 6, é CORRETO afirmar: \n",
    "\n",
    "\n",
    "* Sempre que o código executa dentro do loop o valor de “n” é incrementado.\n",
    "\n",
    "* **Substituindo a condicional “n >= 0” por “n == 0” o loop não é executado.**\n",
    "\n",
    "* O incremento dos valores de \"n” dentro do loop “while” ocorre devido a condição ser positiva.\n",
    "\n",
    "* O loop while é sempre executado, a condição de parada “n >=0” não é alcançada."
   ]
  },
  {
   "cell_type": "code",
   "execution_count": 37,
   "metadata": {},
   "outputs": [],
   "source": [
    "# Teste pergunta 14\n",
    "\n",
    "# Código 6\n",
    "n = 5\n",
    "while n == 0:\n",
    "    n -= 1\n",
    "    print(n)"
   ]
  },
  {
   "cell_type": "markdown",
   "metadata": {},
   "source": [
    "### Pergunta 15\n",
    "\n",
    "Sobre o código 6, é CORRETO afirmar: \n",
    "\n",
    "\n",
    "* **Substituindo a condição “n >= 0” por “n>0” ocorre um menor número de iterações dentro do loop.**\n",
    "\n",
    "* Substituindo a condição “n >= 0” por “n>0” ocorre um erro, pois não existe um número suficiente de valores.\n",
    "\n",
    "* Substituindo a condição “n >= 0” por “n>0” ocorre um maior número de iterações dentro do loop.\n",
    "\n",
    "* Substituindo a condição “n >= 0” por “n>0” as iterações dentro do loop passam a ocorrer de forma inversa."
   ]
  },
  {
   "cell_type": "code",
   "execution_count": 38,
   "metadata": {},
   "outputs": [
    {
     "name": "stdout",
     "output_type": "stream",
     "text": [
      "4\n",
      "3\n",
      "2\n",
      "1\n",
      "0\n"
     ]
    }
   ],
   "source": [
    "# Teste pergunta 15\n",
    "\n",
    "# Código 6\n",
    "n = 5\n",
    "while n > 0:\n",
    "    n -= 1\n",
    "    print(n)"
   ]
  }
 ],
 "metadata": {
  "kernelspec": {
   "display_name": "Python 3",
   "language": "python",
   "name": "python3"
  },
  "language_info": {
   "codemirror_mode": {
    "name": "ipython",
    "version": 3
   },
   "file_extension": ".py",
   "mimetype": "text/x-python",
   "name": "python",
   "nbconvert_exporter": "python",
   "pygments_lexer": "ipython3",
   "version": "3.8.5"
  }
 },
 "nbformat": 4,
 "nbformat_minor": 4
}
